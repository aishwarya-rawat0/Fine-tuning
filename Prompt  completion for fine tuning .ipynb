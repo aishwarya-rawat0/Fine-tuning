{
 "cells": [
  {
   "cell_type": "raw",
   "id": "36bcc0fa",
   "metadata": {},
   "source": [
    "\n"
   ]
  },
  {
   "cell_type": "code",
   "execution_count": 15,
   "id": "e3ee97c3",
   "metadata": {},
   "outputs": [],
   "source": [
    "import numpy as np \n",
    "import pandas as pd"
   ]
  },
  {
   "cell_type": "code",
   "execution_count": 16,
   "id": "4b5a640b",
   "metadata": {},
   "outputs": [],
   "source": [
    "import pandas as pd\n",
    "import json"
   ]
  },
  {
   "cell_type": "code",
   "execution_count": null,
   "id": "afd9cf29",
   "metadata": {},
   "outputs": [],
   "source": []
  },
  {
   "cell_type": "code",
   "execution_count": 20,
   "id": "fd76b340",
   "metadata": {},
   "outputs": [],
   "source": [
    "df = pd.read_csv('/Users/aishwaryarawat/Downloads/joe-rogan-experience-1169-elon-musk.csv')"
   ]
  },
  {
   "cell_type": "code",
   "execution_count": 21,
   "id": "9d1cd509",
   "metadata": {},
   "outputs": [
    {
     "data": {
      "text/html": [
       "<div>\n",
       "<style scoped>\n",
       "    .dataframe tbody tr th:only-of-type {\n",
       "        vertical-align: middle;\n",
       "    }\n",
       "\n",
       "    .dataframe tbody tr th {\n",
       "        vertical-align: top;\n",
       "    }\n",
       "\n",
       "    .dataframe thead th {\n",
       "        text-align: right;\n",
       "    }\n",
       "</style>\n",
       "<table border=\"1\" class=\"dataframe\">\n",
       "  <thead>\n",
       "    <tr style=\"text-align: right;\">\n",
       "      <th></th>\n",
       "      <th>Timestamp</th>\n",
       "      <th>Speaker</th>\n",
       "      <th>Text</th>\n",
       "    </tr>\n",
       "  </thead>\n",
       "  <tbody>\n",
       "    <tr>\n",
       "      <th>0</th>\n",
       "      <td>[00:00:00]</td>\n",
       "      <td>Joe Rogan</td>\n",
       "      <td>Ah, ha, ha, ha. Four, three, two, one, boom. T...</td>\n",
       "    </tr>\n",
       "    <tr>\n",
       "      <th>1</th>\n",
       "      <td>[00:00:09]</td>\n",
       "      <td>Elon Musk</td>\n",
       "      <td>You're welcome.</td>\n",
       "    </tr>\n",
       "    <tr>\n",
       "      <th>2</th>\n",
       "      <td>[00:00:10]</td>\n",
       "      <td>Joe Rogan</td>\n",
       "      <td>It's very good to meet you.</td>\n",
       "    </tr>\n",
       "    <tr>\n",
       "      <th>3</th>\n",
       "      <td>[00:00:11]</td>\n",
       "      <td>Elon Musk</td>\n",
       "      <td>Nice to meet you too.</td>\n",
       "    </tr>\n",
       "    <tr>\n",
       "      <th>4</th>\n",
       "      <td>[00:00:12]</td>\n",
       "      <td>Joe Rogan</td>\n",
       "      <td>And thanks for not lighting this place on fire.</td>\n",
       "    </tr>\n",
       "  </tbody>\n",
       "</table>\n",
       "</div>"
      ],
      "text/plain": [
       "    Timestamp    Speaker                                               Text\n",
       "0  [00:00:00]  Joe Rogan  Ah, ha, ha, ha. Four, three, two, one, boom. T...\n",
       "1  [00:00:09]  Elon Musk                                    You're welcome.\n",
       "2  [00:00:10]  Joe Rogan                        It's very good to meet you.\n",
       "3  [00:00:11]  Elon Musk                              Nice to meet you too.\n",
       "4  [00:00:12]  Joe Rogan    And thanks for not lighting this place on fire."
      ]
     },
     "execution_count": 21,
     "metadata": {},
     "output_type": "execute_result"
    }
   ],
   "source": [
    "df.head()"
   ]
  },
  {
   "cell_type": "code",
   "execution_count": 22,
   "id": "5e29673d",
   "metadata": {},
   "outputs": [
    {
     "data": {
      "text/plain": [
       "array(['Joe Rogan', 'Elon Musk', 'Jaime'], dtype=object)"
      ]
     },
     "execution_count": 22,
     "metadata": {},
     "output_type": "execute_result"
    }
   ],
   "source": [
    "df['Speaker'].unique()"
   ]
  },
  {
   "cell_type": "code",
   "execution_count": 23,
   "id": "e3e19163",
   "metadata": {},
   "outputs": [],
   "source": [
    "df.query(\"Speaker != 'Jaime'\",inplace=True)\n",
    "df = df.reset_index()"
   ]
  },
  {
   "cell_type": "code",
   "execution_count": 24,
   "id": "f5f52342",
   "metadata": {},
   "outputs": [],
   "source": [
    "grouped = []\n",
    "last_speaker = ''\n",
    "for i in range(0,len(df)):            \n",
    "    row = df.loc[i,:]\n",
    "    timestamp = row['Timestamp']\n",
    "    text = row['Text']\n",
    "    current_speaker = row['Speaker']    \n",
    "    if current_speaker == last_speaker:        \n",
    "        grouped[-1]['Text'] += ' ' + text\n",
    "    else:\n",
    "        grouped.append({'Timestamp':timestamp,'Speaker':current_speaker,'Text':text})\n",
    "    last_speaker = current_speaker"
   ]
  },
  {
   "cell_type": "code",
   "execution_count": 25,
   "id": "6db13fc0",
   "metadata": {},
   "outputs": [],
   "source": [
    "for i in range(0,len(grouped)):\n",
    "    if i % 2 == 0:\n",
    "        if grouped[i]['Speaker'] != 'Joe Rogan':            \n",
    "            print(f'expecting Joe Rogan but found Elon Musk on line {i}')"
   ]
  },
  {
   "cell_type": "code",
   "execution_count": 32,
   "id": "c29a024f",
   "metadata": {},
   "outputs": [],
   "source": [
    "train = []\n",
    "# joe is 0, 2, 4, 6\n",
    "# elon is 1,3,5,7,9\n",
    "# {\"prompt\": \"<prompt text>\", \"completion\": \"<ideal generated text>\"}\n",
    "for i in range(1,len(grouped),2):    \n",
    "    elon_index = i\n",
    "    joe_index = i -1 \n",
    "    prompt = grouped[joe_index]['Text']\n",
    "    completion = grouped[elon_index]['Text']\n",
    "\n",
    "df = pd.DataFrame(train, columns=['prompt', 'completion'])"
   ]
  },
  {
   "cell_type": "code",
   "execution_count": 33,
   "id": "7071dc60",
   "metadata": {},
   "outputs": [
    {
     "data": {
      "text/html": [
       "<div>\n",
       "<style scoped>\n",
       "    .dataframe tbody tr th:only-of-type {\n",
       "        vertical-align: middle;\n",
       "    }\n",
       "\n",
       "    .dataframe tbody tr th {\n",
       "        vertical-align: top;\n",
       "    }\n",
       "\n",
       "    .dataframe thead th {\n",
       "        text-align: right;\n",
       "    }\n",
       "</style>\n",
       "<table border=\"1\" class=\"dataframe\">\n",
       "  <thead>\n",
       "    <tr style=\"text-align: right;\">\n",
       "      <th></th>\n",
       "      <th>prompt</th>\n",
       "      <th>completion</th>\n",
       "    </tr>\n",
       "  </thead>\n",
       "  <tbody>\n",
       "    <tr>\n",
       "      <th>0</th>\n",
       "      <td>Ah, ha, ha, ha. Four, three, two, one, boom. T...</td>\n",
       "      <td>You're welcome.</td>\n",
       "    </tr>\n",
       "    <tr>\n",
       "      <th>1</th>\n",
       "      <td>It's very good to meet you.</td>\n",
       "      <td>Nice to meet you too.</td>\n",
       "    </tr>\n",
       "    <tr>\n",
       "      <th>2</th>\n",
       "      <td>And thanks for not lighting this place on fire.</td>\n",
       "      <td>You're welcome. That's coming later.</td>\n",
       "    </tr>\n",
       "    <tr>\n",
       "      <th>3</th>\n",
       "      <td>How does one, just in the middle of doing all ...</td>\n",
       "      <td>Well, the flame, we didn't put a lot of time i...</td>\n",
       "    </tr>\n",
       "    <tr>\n",
       "      <th>4</th>\n",
       "      <td>Now, who-</td>\n",
       "      <td>And then, we have a merchandise section that o...</td>\n",
       "    </tr>\n",
       "  </tbody>\n",
       "</table>\n",
       "</div>"
      ],
      "text/plain": [
       "                                              prompt  \\\n",
       "0  Ah, ha, ha, ha. Four, three, two, one, boom. T...   \n",
       "1                        It's very good to meet you.   \n",
       "2    And thanks for not lighting this place on fire.   \n",
       "3  How does one, just in the middle of doing all ...   \n",
       "4                                          Now, who-   \n",
       "\n",
       "                                          completion  \n",
       "0                                    You're welcome.  \n",
       "1                              Nice to meet you too.  \n",
       "2               You're welcome. That's coming later.  \n",
       "3  Well, the flame, we didn't put a lot of time i...  \n",
       "4  And then, we have a merchandise section that o...  "
      ]
     },
     "execution_count": 33,
     "metadata": {},
     "output_type": "execute_result"
    }
   ],
   "source": [
    "df.head()"
   ]
  },
  {
   "cell_type": "code",
   "execution_count": null,
   "id": "6b620f2d",
   "metadata": {},
   "outputs": [],
   "source": []
  }
 ],
 "metadata": {
  "kernelspec": {
   "display_name": "Python 3 (ipykernel)",
   "language": "python",
   "name": "python3"
  },
  "language_info": {
   "codemirror_mode": {
    "name": "ipython",
    "version": 3
   },
   "file_extension": ".py",
   "mimetype": "text/x-python",
   "name": "python",
   "nbconvert_exporter": "python",
   "pygments_lexer": "ipython3",
   "version": "3.9.12"
  }
 },
 "nbformat": 4,
 "nbformat_minor": 5
}
